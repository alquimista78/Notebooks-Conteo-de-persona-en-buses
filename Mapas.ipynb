{
 "cells": [
  {
   "cell_type": "code",
   "execution_count": 7,
   "metadata": {},
   "outputs": [],
   "source": [
    "#Importo Librerias\n",
    "import pandas as pd\n",
    "import geopandas as gpd\n",
    "from shapely.geometry import Point"
   ]
  },
  {
   "cell_type": "code",
   "execution_count": 2,
   "metadata": {},
   "outputs": [],
   "source": [
    "#Importo las distintas hojas\n",
    "targets = pd.read_excel('./Targets_videos_viejos.xlsx', sheet_name='videos')\n",
    "trx_eco = pd.read_excel('./Targets_videos_viejos.xlsx', sheet_name='TRX_ECO')\n",
    "avl = pd.read_excel('./Targets_videos_viejos.xlsx', sheet_name='AVL')"
   ]
  },
  {
   "cell_type": "code",
   "execution_count": 3,
   "metadata": {},
   "outputs": [
    {
     "name": "stdout",
     "output_type": "stream",
     "text": [
      "Targets\n",
      "-------------------------\n",
      "<class 'pandas.core.frame.DataFrame'>\n",
      "RangeIndex: 5689 entries, 0 to 5688\n",
      "Data columns (total 9 columns):\n",
      "Archivo       5689 non-null object\n",
      "Segundos      5689 non-null int64\n",
      "Minutos       5689 non-null object\n",
      "Fecha_hora    5689 non-null datetime64[ns]\n",
      "Cantidad      5689 non-null int64\n",
      "Bajaron       5689 non-null int64\n",
      "Subieron      5689 non-null int64\n",
      "NICO          2097 non-null float64\n",
      "INTERNO       5689 non-null int64\n",
      "dtypes: datetime64[ns](1), float64(1), int64(5), object(2)\n",
      "memory usage: 400.1+ KB\n",
      "None\n",
      "Transacciones económicas\n",
      "-------------------------\n",
      "<class 'pandas.core.frame.DataFrame'>\n",
      "RangeIndex: 926 entries, 0 to 925\n",
      "Data columns (total 17 columns):\n",
      "CODIGOLINEA             926 non-null int64\n",
      "RAMAL                   926 non-null int64\n",
      "INTERNO                 926 non-null int64\n",
      "MONTO                   926 non-null float64\n",
      "SALDO                   926 non-null float64\n",
      "CODIGOTERMINAL          926 non-null int64\n",
      "CODIGOTRXTERMINAL       926 non-null int64\n",
      "FECHATRX                926 non-null datetime64[ns]\n",
      "FECHAINGRESO            926 non-null datetime64[ns]\n",
      "ATRIBUTO_SOCIAL         926 non-null object\n",
      "IDARCHIVOINTERCAMBIO    926 non-null int64\n",
      "ID_POSICIONAMIENTO      926 non-null int64\n",
      "NROTARJETA              926 non-null int64\n",
      "ID_COMBINACION          926 non-null int64\n",
      "TRX_INTEGRADA           926 non-null object\n",
      "LATITUDE                926 non-null float64\n",
      "LONGITUDE               926 non-null float64\n",
      "dtypes: datetime64[ns](2), float64(4), int64(9), object(2)\n",
      "memory usage: 123.1+ KB\n",
      "None\n",
      "Transacciones AVL (Automatic Vehicle Location)\n",
      "-------------------------\n",
      "<class 'pandas.core.frame.DataFrame'>\n",
      "RangeIndex: 2023 entries, 0 to 2022\n",
      "Data columns (total 13 columns):\n",
      "ID                     2023 non-null int64\n",
      "ENTIDAD                2023 non-null int64\n",
      "LINEA                  2023 non-null int64\n",
      "RAMAL                  2023 non-null int64\n",
      "RECORD_DATE            2023 non-null datetime64[ns]\n",
      "DTSN                   2023 non-null int64\n",
      "INTERNO                2023 non-null int64\n",
      "DISTANCE               2023 non-null int64\n",
      "SPEED                  2023 non-null int64\n",
      "TYPE                   2023 non-null int64\n",
      "LONGITUDE              2023 non-null float64\n",
      "LATITUDE               2023 non-null float64\n",
      "UTILIZED_SATELLITES    2023 non-null int64\n",
      "dtypes: datetime64[ns](1), float64(2), int64(10)\n",
      "memory usage: 205.5 KB\n",
      "None\n"
     ]
    }
   ],
   "source": [
    "##Miro si cargaron bien las fechas y los demas campos\n",
    "print('Targets')\n",
    "print('-------------------------')\n",
    "print(targets.info())\n",
    "print('Transacciones económicas')\n",
    "print('-------------------------')\n",
    "print(trx_eco.info())\n",
    "print('Transacciones AVL (Automatic Vehicle Location)')\n",
    "print('-------------------------')\n",
    "print(avl.info())"
   ]
  },
  {
   "cell_type": "code",
   "execution_count": 9,
   "metadata": {},
   "outputs": [
    {
     "ename": "AttributeError",
     "evalue": "module 'geopandas' has no attribute 'GeoDataFrame'",
     "output_type": "error",
     "traceback": [
      "\u001b[0;31m---------------------------------------------------------------------------\u001b[0m",
      "\u001b[0;31mAttributeError\u001b[0m                            Traceback (most recent call last)",
      "\u001b[0;32m<ipython-input-9-7cffa38e5617>\u001b[0m in \u001b[0;36m<module>\u001b[0;34m\u001b[0m\n\u001b[1;32m      4\u001b[0m \u001b[0;34m\u001b[0m\u001b[0m\n\u001b[1;32m      5\u001b[0m \u001b[0;31m# convierto a geodataframe\u001b[0m\u001b[0;34m\u001b[0m\u001b[0;34m\u001b[0m\u001b[0;34m\u001b[0m\u001b[0m\n\u001b[0;32m----> 6\u001b[0;31m \u001b[0mtrx_eco\u001b[0m \u001b[0;34m=\u001b[0m \u001b[0mgpd\u001b[0m\u001b[0;34m.\u001b[0m\u001b[0mGeoDataFrame\u001b[0m\u001b[0;34m(\u001b[0m\u001b[0mtrx_eco\u001b[0m\u001b[0;34m,\u001b[0m \u001b[0mgeometry\u001b[0m\u001b[0;34m=\u001b[0m\u001b[0mgeometry\u001b[0m\u001b[0;34m,\u001b[0m \u001b[0mcrs\u001b[0m\u001b[0;34m=\u001b[0m\u001b[0;34m{\u001b[0m\u001b[0;34m'init'\u001b[0m \u001b[0;34m:\u001b[0m\u001b[0;34m'epsg:3857'\u001b[0m\u001b[0;34m}\u001b[0m\u001b[0;34m)\u001b[0m\u001b[0;34m\u001b[0m\u001b[0;34m\u001b[0m\u001b[0m\n\u001b[0m",
      "\u001b[0;31mAttributeError\u001b[0m: module 'geopandas' has no attribute 'GeoDataFrame'"
     ]
    }
   ],
   "source": [
    "##Convierto en geopandas\n",
    "#Transformo la long y lat en geometry\n",
    "geometry = [Point(xy) for xy in zip(trx_eco.LONGITUDE, trx_eco.LATITUDE)]\n",
    "\n",
    "# convierto a geodataframe\n",
    "trx_eco = gpd.GeoDataFrame(trx_eco, geometry=geometry, crs={'init' :'epsg:3857'})"
   ]
  },
  {
   "cell_type": "code",
   "execution_count": 4,
   "metadata": {},
   "outputs": [
    {
     "name": "stdout",
     "output_type": "stream",
     "text": [
      "0.24.2\n"
     ]
    }
   ],
   "source": [
    "print (pd.__version__)"
   ]
  },
  {
   "cell_type": "code",
   "execution_count": 5,
   "metadata": {},
   "outputs": [
    {
     "ename": "AttributeError",
     "evalue": "module 'geopandas' has no attribute 'GeoDataFrame'",
     "output_type": "error",
     "traceback": [
      "\u001b[0;31m---------------------------------------------------------------------------\u001b[0m",
      "\u001b[0;31mAttributeError\u001b[0m                            Traceback (most recent call last)",
      "\u001b[0;32m<ipython-input-5-0ba760b485e6>\u001b[0m in \u001b[0;36m<module>\u001b[0;34m\u001b[0m\n\u001b[0;32m----> 1\u001b[0;31m \u001b[0mgpd\u001b[0m\u001b[0;34m.\u001b[0m\u001b[0mGeoDataFrame\u001b[0m\u001b[0;34m(\u001b[0m\u001b[0;34m)\u001b[0m\u001b[0;34m\u001b[0m\u001b[0;34m\u001b[0m\u001b[0m\n\u001b[0m",
      "\u001b[0;31mAttributeError\u001b[0m: module 'geopandas' has no attribute 'GeoDataFrame'"
     ]
    }
   ],
   "source": [
    "gpd.GeoDataFrame()"
   ]
  },
  {
   "cell_type": "code",
   "execution_count": 8,
   "metadata": {},
   "outputs": [
    {
     "ename": "ImportError",
     "evalue": "cannot import name 'GeoDataFrame' from 'geopandas' (unknown location)",
     "output_type": "error",
     "traceback": [
      "\u001b[0;31m---------------------------------------------------------------------------\u001b[0m",
      "\u001b[0;31mImportError\u001b[0m                               Traceback (most recent call last)",
      "\u001b[0;32m<ipython-input-8-14b74f68d09f>\u001b[0m in \u001b[0;36m<module>\u001b[0;34m\u001b[0m\n\u001b[0;32m----> 1\u001b[0;31m \u001b[0;32mfrom\u001b[0m \u001b[0mgeopandas\u001b[0m \u001b[0;32mimport\u001b[0m \u001b[0mGeoDataFrame\u001b[0m\u001b[0;34m\u001b[0m\u001b[0;34m\u001b[0m\u001b[0m\n\u001b[0m",
      "\u001b[0;31mImportError\u001b[0m: cannot import name 'GeoDataFrame' from 'geopandas' (unknown location)"
     ]
    }
   ],
   "source": [
    "from geopandas import GeoDataFrame"
   ]
  },
  {
   "cell_type": "code",
   "execution_count": null,
   "metadata": {},
   "outputs": [],
   "source": []
  }
 ],
 "metadata": {
  "kernelspec": {
   "display_name": "Python 3",
   "language": "python",
   "name": "python3"
  },
  "language_info": {
   "codemirror_mode": {
    "name": "ipython",
    "version": 3
   },
   "file_extension": ".py",
   "mimetype": "text/x-python",
   "name": "python",
   "nbconvert_exporter": "python",
   "pygments_lexer": "ipython3",
   "version": "3.7.3"
  }
 },
 "nbformat": 4,
 "nbformat_minor": 2
}
