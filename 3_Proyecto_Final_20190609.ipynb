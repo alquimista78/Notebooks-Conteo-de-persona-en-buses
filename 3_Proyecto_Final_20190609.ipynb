{
 "cells": [
  {
   "cell_type": "code",
   "execution_count": 0,
   "metadata": {
    "colab": {},
    "colab_type": "code",
    "id": "WbmgKrmlwWGW"
   },
   "outputs": [],
   "source": [
    "import pickle\n",
    "import gzip\n",
    "import matplotlib.pyplot as plt \n",
    "import os \n",
    "import pandas as pd\n",
    "from PIL import Image, ImageFile\n",
    "from IPython.display import display\n",
    "import glob\n",
    "import numpy as np"
   ]
  },
  {
   "cell_type": "code",
   "execution_count": 0,
   "metadata": {
    "colab": {
     "base_uri": "https://localhost:8080/",
     "height": 80
    },
    "colab_type": "code",
    "executionInfo": {
     "elapsed": 10734,
     "status": "ok",
     "timestamp": 1560111321815,
     "user": {
      "displayName": "Mauro Colombini",
      "photoUrl": "https://lh5.googleusercontent.com/-5kXMS9HagWU/AAAAAAAAAAI/AAAAAAAABCU/NnwCHdkDlwY/s64/photo.jpg",
      "userId": "18011726522139553411"
     },
     "user_tz": 180
    },
    "id": "IUwKILCH7QUK",
    "outputId": "b1b8f661-5296-4c1f-bc3b-b2a491c96f49"
   },
   "outputs": [
    {
     "name": "stdout",
     "output_type": "stream",
     "text": [
      "\u001b[K     |████████████████████████████████| 993kB 2.3MB/s \n",
      "\u001b[?25h  Building wheel for PyDrive (setup.py) ... \u001b[?25l\u001b[?25hdone\n"
     ]
    }
   ],
   "source": [
    "!pip install -U -q PyDrive"
   ]
  },
  {
   "cell_type": "markdown",
   "metadata": {
    "colab_type": "text",
    "id": "-KthZYj-GBhe"
   },
   "source": [
    "# Obtener archivos desde GDrive"
   ]
  },
  {
   "cell_type": "code",
   "execution_count": 0,
   "metadata": {
    "colab": {},
    "colab_type": "code",
    "id": "fnZgKQNfwd6a"
   },
   "outputs": [],
   "source": [
    "#!pip install -U -q PyDrive\n",
    "from pydrive.auth import GoogleAuth\n",
    "from pydrive.drive import GoogleDrive\n",
    "from google.colab import auth\n",
    "from oauth2client.client import GoogleCredentials\n",
    "\n",
    "auth.authenticate_user()\n",
    "gauth = GoogleAuth()\n",
    "gauth.credentials = GoogleCredentials.get_application_default()\n",
    "drive = GoogleDrive(gauth)"
   ]
  },
  {
   "cell_type": "markdown",
   "metadata": {
    "colab_type": "text",
    "id": "FDUF_lpaGx4p"
   },
   "source": [
    "## Array de imágenes"
   ]
  },
  {
   "cell_type": "code",
   "execution_count": 0,
   "metadata": {
    "colab": {},
    "colab_type": "code",
    "id": "HM3rFXeg_G2h"
   },
   "outputs": [],
   "source": [
    "##Creo directorio donde se descomprimirán los archivos\n",
    "download_path = os.path.expanduser('~/data')\n",
    "try:\n",
    "  os.makedirs(download_path)\n",
    "except FileExistsError:\n",
    "  pass"
   ]
  },
  {
   "cell_type": "code",
   "execution_count": 0,
   "metadata": {
    "colab": {
     "base_uri": "https://localhost:8080/",
     "height": 357
    },
    "colab_type": "code",
    "executionInfo": {
     "elapsed": 35404,
     "status": "ok",
     "timestamp": 1560115549454,
     "user": {
      "displayName": "Mauro Colombini",
      "photoUrl": "https://lh5.googleusercontent.com/-5kXMS9HagWU/AAAAAAAAAAI/AAAAAAAABCU/NnwCHdkDlwY/s64/photo.jpg",
      "userId": "18011726522139553411"
     },
     "user_tz": 180
    },
    "id": "I2glKNay4pd6",
    "outputId": "f2842e1f-2f96-4e78-dc74-b66510c4b6d8"
   },
   "outputs": [
    {
     "name": "stdout",
     "output_type": "stream",
     "text": [
      "title Pico_Frente_I3_20190410_083001.pgz, id 1wbXA7iLNeGMuhucAc3-cF24fIhFZDe93\n",
      "title Pico_Frente_I1_20190410_080000.pgz, id 1-g6bQql8QdV3FtatvtsM2FTkkp9IkFHo\n",
      "title Pico_Atras_I3_20190410_083001.pgz, id 1p8aF3qsi9pjwDFCBPMyHW_avSrsSaQGW\n",
      "title Pico_Atras_I1_20190410_080000.pgz, id 1b-H8X4lqPdu_c336OG_pGuRJ6-jnz7dE\n",
      "title NoPico_Frente_I5_20190410_102959.pgz, id 1hhgYV4LS5zv3HBfQalwHypOqdH3HJyjX\n",
      "title NoPico_Frente_I3_20190410_113001.pgz, id 1BhmLGQyG5qURMFXc0mbDLCRmzIqBVcrY\n",
      "title NoPico_Frente_I2_20190410_113000.pgz, id 1aA23zavR_LPUkhoHCUb-HCS-LdJDfziV\n",
      "title NoPico_Atras_I5_20190410_102959.pgz, id 16CZtftU5_4bfbb8KNvz6Gr7fYx79_PHB\n",
      "title NoPico_Atras_I3_20190410_113001.pgz, id 1zR9o6A4XeIPrcROwmNpJ8dm30LhEw5Nj\n",
      "title NoPico_Atras_I2_20190410_113059.pgz, id 16YlthIHJbY0dNZwhPXDjZwzlMUm9VJ9Y\n",
      "title Pico_Frente_L3_array.pgz, id 1MlthwvEPv3n0zObQC770A_OnOCTPmQCQ\n",
      "title Pico_Frente_L1_array.pgz, id 1PKMXawhAOX26nELp8_oTm0ny6hCfnWm1\n",
      "title Pico_Atras_L3_array.pgz, id 1AhlWa4cKyBZ9x1tjwYEEpni1A5kVEWx8\n",
      "title Pico_Atras_L1_array.pgz, id 1CcQRRG_Y3rdc72GlSH3uoD0i-snVQouF\n",
      "title NoPico_Frente_L3_array.pgz, id 1vaTsM4Jteg4V72L_k2BsbMTPAuwzVHDL\n",
      "title NoPico_Frente_L2_array.pgz, id 11DgkFj18VzYfD6eDUFQOsCqciqltJNa3\n",
      "title NoPico_Atras_L3_array.pgz, id 1Ineb3yRM-c1-AqNuTdpIw8aqfxuKmiSt\n",
      "title NoPico_Atras_L2_array.pgz, id 1EcmtlCoxLu4oGcyz-p1iJWSmzyXBhwQp\n",
      "title frente_array_escalado.pgz, id 1j-gd2agJxLEmgErvZIOdLW5eJL7OkVgk\n",
      "title atras_array_escalado.pgz, id 1tpAtnIjf486UIlgAId0kcNTchPA7cL4V\n"
     ]
    }
   ],
   "source": [
    "##Listo los archivos con extensión pgz\n",
    "listed = drive.ListFile().GetList()\n",
    "for file in [x for x in listed if x['title'][-3:]=='pgz']:\n",
    "  print('title {}, id {}'.format(file['title'], file['id']))"
   ]
  },
  {
   "cell_type": "markdown",
   "metadata": {
    "colab_type": "text",
    "id": "UHQpt2-kq5sz"
   },
   "source": [
    "### Archivos Frente"
   ]
  },
  {
   "cell_type": "code",
   "execution_count": 0,
   "metadata": {
    "colab": {},
    "colab_type": "code",
    "id": "YFzFjy3k5moM"
   },
   "outputs": [],
   "source": [
    "#### Pico_Frente_I1 #####\n",
    "# Utilizo los nombres de archivos y los ids que me devolvió el listado de archivos anterior\n",
    "Pico_Frente_I1 = os.path.join(download_path, 'Pico_Frente_I1_20190410_080000.pgz')\n",
    "temp_file = drive.CreateFile({'id': '1-g6bQql8QdV3FtatvtsM2FTkkp9IkFHo'})\n",
    "temp_file.GetContentFile(Pico_Frente_I1)\n",
    "\n",
    "# Descomprimo y abro el archivo pickle\n",
    "with gzip.open(Pico_Frente_I1, 'rb') as f:\n",
    "    Pico_Frente_I1_array_esc = pickle.load(f)"
   ]
  },
  {
   "cell_type": "code",
   "execution_count": 0,
   "metadata": {
    "colab": {},
    "colab_type": "code",
    "id": "0GoeioyBElGX"
   },
   "outputs": [],
   "source": [
    "##### Pico_Frente_I3 #####\n",
    "# Utilizo los nombres de archivos y los ids que me devolvió el listado de archivos anterior\n",
    "Pico_Frente_I3 = os.path.join(download_path, 'Pico_Frente_I3_20190410_083001.pgz')\n",
    "temp_file = drive.CreateFile({'id': '1wbXA7iLNeGMuhucAc3-cF24fIhFZDe93'})\n",
    "temp_file.GetContentFile(Pico_Frente_I3)\n",
    "\n",
    "# Descomprimo y abro el archivo pickle\n",
    "with gzip.open(Pico_Frente_I3, 'rb') as f:\n",
    "    Pico_Frente_I3_array_esc = pickle.load(f)"
   ]
  },
  {
   "cell_type": "code",
   "execution_count": 0,
   "metadata": {
    "colab": {},
    "colab_type": "code",
    "id": "0_whz-EJuYcc"
   },
   "outputs": [],
   "source": [
    "##### NoPico_Frente_I3 #####\n",
    "# Utilizo los nombres de archivos y los ids que me devolvió el listado de archivos anterior\n",
    "NoPico_Frente_I3 = os.path.join(download_path, 'NoPico_Frente_I3_20190410_113001.pgz')\n",
    "temp_file = drive.CreateFile({'id': '1BhmLGQyG5qURMFXc0mbDLCRmzIqBVcrY'})\n",
    "temp_file.GetContentFile(NoPico_Frente_I3)\n",
    "\n",
    "# Descomprimo y abro el archivo pickle\n",
    "with gzip.open(NoPico_Frente_I3, 'rb') as f:\n",
    "    NoPico_Frente_I3_array_esc = pickle.load(f)"
   ]
  },
  {
   "cell_type": "code",
   "execution_count": 0,
   "metadata": {
    "colab": {},
    "colab_type": "code",
    "id": "pmt1AFXRu82M"
   },
   "outputs": [],
   "source": [
    "##### NoPico_Frente_I2 #####\n",
    "# Utilizo los nombres de archivos y los ids que me devolvió el listado de archivos anterior\n",
    "NoPico_Frente_I2 = os.path.join(download_path, 'NoPico_Frente_I2_20190410_113000.pgz')\n",
    "temp_file = drive.CreateFile({'id': '1aA23zavR_LPUkhoHCUb-HCS-LdJDfziV'})\n",
    "temp_file.GetContentFile(NoPico_Frente_I2)\n",
    "\n",
    "# Descomprimo y abro el archivo pickle\n",
    "with gzip.open(NoPico_Frente_I2, 'rb') as f:\n",
    "    NoPico_Frente_I2_array_esc = pickle.load(f)"
   ]
  },
  {
   "cell_type": "code",
   "execution_count": 0,
   "metadata": {
    "colab": {},
    "colab_type": "code",
    "id": "HEe2b78MI7Eh"
   },
   "outputs": [],
   "source": [
    "##### NoPico_Frente_I5 #####\n",
    "# Utilizo los nombres de archivos y los ids que me devolvió el listado de archivos anterior\n",
    "NoPico_Frente_I5 = os.path.join(download_path, 'NoPico_Frente_I5_20190410_102959.pgz')\n",
    "temp_file = drive.CreateFile({'id': '1hhgYV4LS5zv3HBfQalwHypOqdH3HJyjX'})\n",
    "temp_file.GetContentFile(NoPico_Frente_I5)\n",
    "\n",
    "# Descomprimo y abro el archivo pickle\n",
    "with gzip.open(NoPico_Frente_I5, 'rb') as f:\n",
    "    NoPico_Frente_I5_array_esc = pickle.load(f)"
   ]
  },
  {
   "cell_type": "markdown",
   "metadata": {
    "colab_type": "text",
    "id": "itgkbyH6x0pL"
   },
   "source": [
    "### Archivos Atras"
   ]
  },
  {
   "cell_type": "code",
   "execution_count": 0,
   "metadata": {
    "colab": {},
    "colab_type": "code",
    "id": "XLpGjRwXx_VK"
   },
   "outputs": [],
   "source": [
    "##### Pico_Atras_I1 #####\n",
    "# Utilizo los nombres de archivos y los ids que me devolvió el listado de archivos anterior\n",
    "Pico_Atras_I1 = os.path.join(download_path, 'Pico_Atras_I1_20190410_080000.pgz')\n",
    "temp_file = drive.CreateFile({'id': '1b-H8X4lqPdu_c336OG_pGuRJ6-jnz7dE'})\n",
    "temp_file.GetContentFile(Pico_Atras_I1)\n",
    "\n",
    "# Descomprimo y abro el archivo pickle\n",
    "with gzip.open(Pico_Atras_I1, 'rb') as f:\n",
    "    Pico_Atras_I1_array_esc = pickle.load(f)"
   ]
  },
  {
   "cell_type": "code",
   "execution_count": 0,
   "metadata": {
    "colab": {},
    "colab_type": "code",
    "id": "69zWvGiEyXSa"
   },
   "outputs": [],
   "source": [
    "##### Pico_Atras_I3 #####\n",
    "# Utilizo los nombres de archivos y los ids que me devolvió el listado de archivos anterior\n",
    "Pico_Atras_I3 = os.path.join(download_path, 'Pico_Atras_I3_20190410_083001.pgz')\n",
    "temp_file = drive.CreateFile({'id': '1p8aF3qsi9pjwDFCBPMyHW_avSrsSaQGW'})\n",
    "temp_file.GetContentFile(Pico_Atras_I3)\n",
    "\n",
    "# Descomprimo y abro el archivo pickle\n",
    "with gzip.open(Pico_Atras_I3, 'rb') as f:\n",
    "    Pico_Atras_I3_array_esc = pickle.load(f)"
   ]
  },
  {
   "cell_type": "code",
   "execution_count": 0,
   "metadata": {
    "colab": {},
    "colab_type": "code",
    "id": "AsxMAG91yl7V"
   },
   "outputs": [],
   "source": [
    "##### NoPico_Atras_I3 #####\n",
    "# Utilizo los nombres de archivos y los ids que me devolvió el listado de archivos anterior\n",
    "NoPico_Atras_I3 = os.path.join(download_path, 'NoPico_Atras_I3_20190410_113001.pgz')\n",
    "temp_file = drive.CreateFile({'id': '1zR9o6A4XeIPrcROwmNpJ8dm30LhEw5Nj'})\n",
    "temp_file.GetContentFile(NoPico_Atras_I3)\n",
    "\n",
    "# Descomprimo y abro el archivo pickle\n",
    "with gzip.open(NoPico_Atras_I3, 'rb') as f:\n",
    "    NoPico_Atras_I3_array_esc = pickle.load(f)"
   ]
  },
  {
   "cell_type": "code",
   "execution_count": 0,
   "metadata": {
    "colab": {},
    "colab_type": "code",
    "id": "NT7iR9d-zlnm"
   },
   "outputs": [],
   "source": [
    "##### NoPico_Atras_I2 #####\n",
    "# Utilizo los nombres de archivos y los ids que me devolvió el listado de archivos anterior\n",
    "NoPico_Atras_I2 = os.path.join(download_path, 'NoPico_Atras_I2_20190410_113059.pgz')\n",
    "temp_file = drive.CreateFile({'id': '16YlthIHJbY0dNZwhPXDjZwzlMUm9VJ9Y'})\n",
    "temp_file.GetContentFile(NoPico_Atras_I2)\n",
    "\n",
    "# Descomprimo y abro el archivo pickle\n",
    "with gzip.open(NoPico_Atras_I2, 'rb') as f:\n",
    "    NoPico_Atras_I2_array_esc = pickle.load(f)"
   ]
  },
  {
   "cell_type": "code",
   "execution_count": 0,
   "metadata": {
    "colab": {},
    "colab_type": "code",
    "id": "DRnEzBGCK66y"
   },
   "outputs": [],
   "source": [
    "##### NoPico_Atras_I5 #####\n",
    "# Utilizo los nombres de archivos y los ids que me devolvió el listado de archivos anterior\n",
    "NoPico_Atras_I5 = os.path.join(download_path, 'NoPico_Atras_I5_20190410_102959.pgz')\n",
    "temp_file = drive.CreateFile({'id': '16CZtftU5_4bfbb8KNvz6Gr7fYx79_PHB'})\n",
    "temp_file.GetContentFile(NoPico_Atras_I5)\n",
    "\n",
    "# Descomprimo y abro el archivo pickle\n",
    "with gzip.open(NoPico_Atras_I5, 'rb') as f:\n",
    "    NoPico_Atras_I5_array_esc = pickle.load(f)"
   ]
  },
  {
   "cell_type": "code",
   "execution_count": 0,
   "metadata": {
    "colab": {
     "base_uri": "https://localhost:8080/",
     "height": 255
    },
    "colab_type": "code",
    "executionInfo": {
     "elapsed": 661,
     "status": "ok",
     "timestamp": 1560116974118,
     "user": {
      "displayName": "Mauro Colombini",
      "photoUrl": "https://lh5.googleusercontent.com/-5kXMS9HagWU/AAAAAAAAAAI/AAAAAAAABCU/NnwCHdkDlwY/s64/photo.jpg",
      "userId": "18011726522139553411"
     },
     "user_tz": 180
    },
    "id": "WqDSoZNk0HXN",
    "outputId": "22f7cc02-99d4-4aaa-f504-0d804b2a4a6f"
   },
   "outputs": [
    {
     "name": "stdout",
     "output_type": "stream",
     "text": [
      "Pico_Frente_I1: (899, 112, 200)\n",
      "Pico_Atras_I1: (899, 112, 200)\n",
      "------------------------------\n",
      "Pico_Frente_I3: (1198, 112, 200)\n",
      "Pico_Atras_I3: (1198, 112, 200)\n",
      "------------------------------\n",
      "NoPico_Frente_I3: (1198, 112, 200)\n",
      "NoPico_Atras_I3: (1195, 112, 200)\n",
      "------------------------------\n",
      "NoPico_Frente_I2: (1198, 112, 200)\n",
      "NoPico_Atras_I2: (1199, 112, 200)\n",
      "------------------------------\n",
      "NoPico_Frente_I5: (1199, 112, 200)\n",
      "NoPico_Atras_I5: (1199, 112, 200)\n"
     ]
    }
   ],
   "source": [
    "##Evaluo como quedaron los arrays\n",
    "print('Pico_Frente_I1:', Pico_Frente_I1_array_esc.shape)\n",
    "print('Pico_Atras_I1:', Pico_Atras_I1_array_esc.shape)\n",
    "print('------------------------------')\n",
    "print('Pico_Frente_I3:', Pico_Frente_I3_array_esc.shape)\n",
    "print('Pico_Atras_I3:', Pico_Atras_I3_array_esc.shape)\n",
    "print('------------------------------')\n",
    "print('NoPico_Frente_I3:', NoPico_Frente_I3_array_esc.shape)\n",
    "print('NoPico_Atras_I3:', NoPico_Atras_I3_array_esc.shape)\n",
    "print('------------------------------')\n",
    "print('NoPico_Frente_I2:', NoPico_Frente_I2_array_esc.shape)\n",
    "print('NoPico_Atras_I2:', NoPico_Atras_I2_array_esc.shape)\n",
    "print('------------------------------')\n",
    "print('NoPico_Frente_I5:', NoPico_Frente_I5_array_esc.shape)\n",
    "print('NoPico_Atras_I5:', NoPico_Atras_I5_array_esc.shape)\n",
    "#El interno I3 tienen 3 imagenes mas en el array de frente\n",
    "#El interno I2 tiene una imagen mas en el array de atras"
   ]
  },
  {
   "cell_type": "code",
   "execution_count": 0,
   "metadata": {
    "colab": {},
    "colab_type": "code",
    "id": "Mp5IV3WGMyMa"
   },
   "outputs": [],
   "source": [
    "##Elimino las 3 imagenes de más que tiene el array NoPico_Frente_I3\n",
    "NoPico_Frente_I3_array_esc = NoPico_Frente_I3_array_esc[:-3]\n",
    "\n",
    "##Elimino la imagen de más que tiene el array NoPico_Atras_I2\n",
    "NoPico_Atras_I2_array_esc = NoPico_Atras_I2_array_esc[:-1]"
   ]
  },
  {
   "cell_type": "code",
   "execution_count": 0,
   "metadata": {
    "colab": {
     "base_uri": "https://localhost:8080/",
     "height": 255
    },
    "colab_type": "code",
    "executionInfo": {
     "elapsed": 571,
     "status": "ok",
     "timestamp": 1560117000761,
     "user": {
      "displayName": "Mauro Colombini",
      "photoUrl": "https://lh5.googleusercontent.com/-5kXMS9HagWU/AAAAAAAAAAI/AAAAAAAABCU/NnwCHdkDlwY/s64/photo.jpg",
      "userId": "18011726522139553411"
     },
     "user_tz": 180
    },
    "id": "jCe6Wl0COCem",
    "outputId": "70da1c40-6f61-48bb-c63b-301f64e149a6"
   },
   "outputs": [
    {
     "name": "stdout",
     "output_type": "stream",
     "text": [
      "Pico_Frente_I1: (899, 112, 200)\n",
      "Pico_Atras_I1: (899, 112, 200)\n",
      "------------------------------\n",
      "Pico_Frente_I3: (1198, 112, 200)\n",
      "Pico_Atras_I3: (1198, 112, 200)\n",
      "------------------------------\n",
      "NoPico_Frente_I3: (1195, 112, 200)\n",
      "NoPico_Atras_I3: (1195, 112, 200)\n",
      "------------------------------\n",
      "NoPico_Frente_I2: (1198, 112, 200)\n",
      "NoPico_Atras_I2: (1198, 112, 200)\n",
      "------------------------------\n",
      "NoPico_Frente_I5: (1199, 112, 200)\n",
      "NoPico_Atras_I5: (1199, 112, 200)\n"
     ]
    }
   ],
   "source": [
    "##Evaluo como quedaron los arrays\n",
    "print('Pico_Frente_I1:', Pico_Frente_I1_array_esc.shape)\n",
    "print('Pico_Atras_I1:', Pico_Atras_I1_array_esc.shape)\n",
    "print('------------------------------')\n",
    "print('Pico_Frente_I3:', Pico_Frente_I3_array_esc.shape)\n",
    "print('Pico_Atras_I3:', Pico_Atras_I3_array_esc.shape)\n",
    "print('------------------------------')\n",
    "print('NoPico_Frente_I3:', NoPico_Frente_I3_array_esc.shape)\n",
    "print('NoPico_Atras_I3:', NoPico_Atras_I3_array_esc.shape)\n",
    "print('------------------------------')\n",
    "print('NoPico_Frente_I2:', NoPico_Frente_I2_array_esc.shape)\n",
    "print('NoPico_Atras_I2:', NoPico_Atras_I2_array_esc.shape)\n",
    "print('------------------------------')\n",
    "print('NoPico_Frente_I5:', NoPico_Frente_I5_array_esc.shape)\n",
    "print('NoPico_Atras_I5:', NoPico_Atras_I5_array_esc.shape)\n",
    "#OK"
   ]
  },
  {
   "cell_type": "markdown",
   "metadata": {
    "colab_type": "text",
    "id": "w7Kzgexn96Yy"
   },
   "source": [
    "### Genero dos archivos uniendo todos los frentes y todos los atras"
   ]
  },
  {
   "cell_type": "code",
   "execution_count": 0,
   "metadata": {
    "colab": {},
    "colab_type": "code",
    "id": "L42ydc4J9i0N"
   },
   "outputs": [],
   "source": [
    "## Uno los arrays frente. El orden de los arrays debe ser igual al del target (ver más adelante)\n",
    "frente_array_escalado = np.concatenate((Pico_Frente_I3_array_esc, \\\n",
    "                                        NoPico_Frente_I5_array_esc, \\\n",
    "                                        NoPico_Frente_I3_array_esc, \\\n",
    "                                        Pico_Frente_I1_array_esc, \\\n",
    "                                        NoPico_Frente_I2_array_esc),axis=0)"
   ]
  },
  {
   "cell_type": "code",
   "execution_count": 0,
   "metadata": {
    "colab": {
     "base_uri": "https://localhost:8080/",
     "height": 34
    },
    "colab_type": "code",
    "executionInfo": {
     "elapsed": 549,
     "status": "ok",
     "timestamp": 1560117210445,
     "user": {
      "displayName": "Mauro Colombini",
      "photoUrl": "https://lh5.googleusercontent.com/-5kXMS9HagWU/AAAAAAAAAAI/AAAAAAAABCU/NnwCHdkDlwY/s64/photo.jpg",
      "userId": "18011726522139553411"
     },
     "user_tz": 180
    },
    "id": "AynMx1-sAAbd",
    "outputId": "0abfd73c-475a-4220-fbad-a1529ae77099"
   },
   "outputs": [
    {
     "data": {
      "text/plain": [
       "(5689, 112, 200)"
      ]
     },
     "execution_count": 67,
     "metadata": {
      "tags": []
     },
     "output_type": "execute_result"
    }
   ],
   "source": [
    "frente_array_escalado.shape"
   ]
  },
  {
   "cell_type": "code",
   "execution_count": 0,
   "metadata": {
    "colab": {},
    "colab_type": "code",
    "id": "nb9X-z39AFb3"
   },
   "outputs": [],
   "source": [
    "## Uno los arrays atras. El orden de los arrays debe ser igual al del target (ver más adelante)\n",
    "atras_array_escalado = np.concatenate((Pico_Atras_I3_array_esc, \\\n",
    "                                       NoPico_Atras_I5_array_esc, \\\n",
    "                                       NoPico_Atras_I3_array_esc, \\\n",
    "                                       Pico_Atras_I1_array_esc, \\\n",
    "                                       NoPico_Atras_I2_array_esc),axis=0)"
   ]
  },
  {
   "cell_type": "code",
   "execution_count": 0,
   "metadata": {
    "colab": {
     "base_uri": "https://localhost:8080/",
     "height": 34
    },
    "colab_type": "code",
    "executionInfo": {
     "elapsed": 726,
     "status": "ok",
     "timestamp": 1560117214234,
     "user": {
      "displayName": "Mauro Colombini",
      "photoUrl": "https://lh5.googleusercontent.com/-5kXMS9HagWU/AAAAAAAAAAI/AAAAAAAABCU/NnwCHdkDlwY/s64/photo.jpg",
      "userId": "18011726522139553411"
     },
     "user_tz": 180
    },
    "id": "_3BISl5qAZAc",
    "outputId": "12149ac1-c0cc-4fc3-e424-2262d2ad3484"
   },
   "outputs": [
    {
     "data": {
      "text/plain": [
       "(5689, 112, 200)"
      ]
     },
     "execution_count": 69,
     "metadata": {
      "tags": []
     },
     "output_type": "execute_result"
    }
   ],
   "source": [
    "atras_array_escalado.shape"
   ]
  },
  {
   "cell_type": "markdown",
   "metadata": {
    "colab_type": "text",
    "id": "Jvo-6vAwGUB5"
   },
   "source": [
    "## Archivos Targets"
   ]
  },
  {
   "cell_type": "code",
   "execution_count": 0,
   "metadata": {
    "colab": {
     "base_uri": "https://localhost:8080/",
     "height": 119
    },
    "colab_type": "code",
    "executionInfo": {
     "elapsed": 30059,
     "status": "ok",
     "timestamp": 1560008834310,
     "user": {
      "displayName": "Mauro Colombini",
      "photoUrl": "https://lh5.googleusercontent.com/-5kXMS9HagWU/AAAAAAAAAAI/AAAAAAAABCU/NnwCHdkDlwY/s64/photo.jpg",
      "userId": "18011726522139553411"
     },
     "user_tz": 180
    },
    "id": "HVwMesie29zV",
    "outputId": "3150e38b-8e33-4f55-9cbc-784e14b69964"
   },
   "outputs": [
    {
     "name": "stdout",
     "output_type": "stream",
     "text": [
      "title Porto Real. Depósitos . Gastos 2019.xlsx, id 1rkHyK0DxajKPEDd2IdLQatlpLYtH9yYn\n",
      "title Targets_videos.xlsx, id 1yOc3mTAbNKVqMZV6MrGvRJEXiP-q3RxP\n",
      "title L3.xlsx, id 1tl0s9CH3dYpD5_2mTzNW9i4Dakd1aA3M\n",
      "title L2.xlsx, id 1QymnyOmHrXYI8W1zXa4j_lSfT3anmi2k\n",
      "title L1.xlsx, id 11BtFPwNk5HO8mLRFRm_sTKu-u9h7lCus\n",
      "title Pico_I1.xlsx, id 1Y2INip4MKweYmpJpW2IjNxGodgv2qQe-\n"
     ]
    }
   ],
   "source": [
    "##Listo los archivos con extensión xlsx\n",
    "listed = drive.ListFile().GetList()\n",
    "for file in [x for x in listed if x['title'][-4:]=='xlsx'][:6]:\n",
    "  print('title {}, id {}'.format(file['title'], file['id']))"
   ]
  },
  {
   "cell_type": "code",
   "execution_count": 0,
   "metadata": {
    "colab": {},
    "colab_type": "code",
    "id": "gXtlvww4Gawv"
   },
   "outputs": [],
   "source": [
    "## Leo el archivo de targets\n",
    "targets = os.path.join(download_path, 'Targets_videos.xlsx')\n",
    "temp_file = drive.CreateFile({'id': '1yOc3mTAbNKVqMZV6MrGvRJEXiP-q3RxP'})\n",
    "temp_file.GetContentFile(targets)\n",
    "\n",
    "targets_df = pd.read_excel(targets)"
   ]
  },
  {
   "cell_type": "code",
   "execution_count": 0,
   "metadata": {
    "colab": {
     "base_uri": "https://localhost:8080/",
     "height": 34
    },
    "colab_type": "code",
    "executionInfo": {
     "elapsed": 816,
     "status": "ok",
     "timestamp": 1560117224063,
     "user": {
      "displayName": "Mauro Colombini",
      "photoUrl": "https://lh5.googleusercontent.com/-5kXMS9HagWU/AAAAAAAAAAI/AAAAAAAABCU/NnwCHdkDlwY/s64/photo.jpg",
      "userId": "18011726522139553411"
     },
     "user_tz": 180
    },
    "id": "S61ND0_AwWGm",
    "outputId": "4022c469-5b5e-49ea-9a50-cf45c9839667"
   },
   "outputs": [
    {
     "data": {
      "text/plain": [
       "(5689, 8)"
      ]
     },
     "execution_count": 71,
     "metadata": {
      "tags": []
     },
     "output_type": "execute_result"
    }
   ],
   "source": [
    "## Miro cuantos registros tiene el target. Me da más que la suma de los arrays \n",
    "#porque falta los arrays de I5\n",
    "targets_df.shape"
   ]
  },
  {
   "cell_type": "code",
   "execution_count": 0,
   "metadata": {
    "colab": {
     "base_uri": "https://localhost:8080/",
     "height": 204
    },
    "colab_type": "code",
    "executionInfo": {
     "elapsed": 758,
     "status": "ok",
     "timestamp": 1560117227918,
     "user": {
      "displayName": "Mauro Colombini",
      "photoUrl": "https://lh5.googleusercontent.com/-5kXMS9HagWU/AAAAAAAAAAI/AAAAAAAABCU/NnwCHdkDlwY/s64/photo.jpg",
      "userId": "18011726522139553411"
     },
     "user_tz": 180
    },
    "id": "ChWGqJgE6Pn0",
    "outputId": "25ad2465-50c9-417c-d0e3-482d74606c9a"
   },
   "outputs": [
    {
     "data": {
      "text/html": [
       "<div>\n",
       "<style scoped>\n",
       "    .dataframe tbody tr th:only-of-type {\n",
       "        vertical-align: middle;\n",
       "    }\n",
       "\n",
       "    .dataframe tbody tr th {\n",
       "        vertical-align: top;\n",
       "    }\n",
       "\n",
       "    .dataframe thead th {\n",
       "        text-align: right;\n",
       "    }\n",
       "</style>\n",
       "<table border=\"1\" class=\"dataframe\">\n",
       "  <thead>\n",
       "    <tr style=\"text-align: right;\">\n",
       "      <th></th>\n",
       "      <th>Archivo</th>\n",
       "      <th>Segundos</th>\n",
       "      <th>Minutos</th>\n",
       "      <th>Fecha_hora</th>\n",
       "      <th>Cantidad</th>\n",
       "      <th>Bajaron</th>\n",
       "      <th>Subieron</th>\n",
       "      <th>NICO</th>\n",
       "    </tr>\n",
       "  </thead>\n",
       "  <tbody>\n",
       "    <tr>\n",
       "      <th>0</th>\n",
       "      <td>Pico_I3</td>\n",
       "      <td>1</td>\n",
       "      <td>0:1</td>\n",
       "      <td>2019-04-10 08:30:03</td>\n",
       "      <td>36</td>\n",
       "      <td>0</td>\n",
       "      <td>0</td>\n",
       "      <td>NaN</td>\n",
       "    </tr>\n",
       "    <tr>\n",
       "      <th>1</th>\n",
       "      <td>Pico_I3</td>\n",
       "      <td>2</td>\n",
       "      <td>0:2</td>\n",
       "      <td>2019-04-10 08:30:04</td>\n",
       "      <td>36</td>\n",
       "      <td>0</td>\n",
       "      <td>0</td>\n",
       "      <td>NaN</td>\n",
       "    </tr>\n",
       "    <tr>\n",
       "      <th>2</th>\n",
       "      <td>Pico_I3</td>\n",
       "      <td>3</td>\n",
       "      <td>0:3</td>\n",
       "      <td>2019-04-10 08:30:05</td>\n",
       "      <td>36</td>\n",
       "      <td>0</td>\n",
       "      <td>0</td>\n",
       "      <td>NaN</td>\n",
       "    </tr>\n",
       "    <tr>\n",
       "      <th>3</th>\n",
       "      <td>Pico_I3</td>\n",
       "      <td>4</td>\n",
       "      <td>0:4</td>\n",
       "      <td>2019-04-10 08:30:06</td>\n",
       "      <td>29</td>\n",
       "      <td>7</td>\n",
       "      <td>0</td>\n",
       "      <td>NaN</td>\n",
       "    </tr>\n",
       "    <tr>\n",
       "      <th>4</th>\n",
       "      <td>Pico_I3</td>\n",
       "      <td>5</td>\n",
       "      <td>0:5</td>\n",
       "      <td>2019-04-10 08:30:07</td>\n",
       "      <td>28</td>\n",
       "      <td>1</td>\n",
       "      <td>0</td>\n",
       "      <td>NaN</td>\n",
       "    </tr>\n",
       "  </tbody>\n",
       "</table>\n",
       "</div>"
      ],
      "text/plain": [
       "   Archivo  Segundos Minutos  ... Bajaron  Subieron  NICO\n",
       "0  Pico_I3         1     0:1  ...       0         0   NaN\n",
       "1  Pico_I3         2     0:2  ...       0         0   NaN\n",
       "2  Pico_I3         3     0:3  ...       0         0   NaN\n",
       "3  Pico_I3         4     0:4  ...       7         0   NaN\n",
       "4  Pico_I3         5     0:5  ...       1         0   NaN\n",
       "\n",
       "[5 rows x 8 columns]"
      ]
     },
     "execution_count": 72,
     "metadata": {
      "tags": []
     },
     "output_type": "execute_result"
    }
   ],
   "source": [
    "## Miro los primeros registros. El campo Nico es el tageo que hizo él, que\n",
    "#difiere muy poco en algunos casos con el mio.\n",
    "targets_df.iloc[:5]"
   ]
  },
  {
   "cell_type": "code",
   "execution_count": 0,
   "metadata": {
    "colab": {
     "base_uri": "https://localhost:8080/",
     "height": 51
    },
    "colab_type": "code",
    "executionInfo": {
     "elapsed": 554,
     "status": "ok",
     "timestamp": 1560117231918,
     "user": {
      "displayName": "Mauro Colombini",
      "photoUrl": "https://lh5.googleusercontent.com/-5kXMS9HagWU/AAAAAAAAAAI/AAAAAAAABCU/NnwCHdkDlwY/s64/photo.jpg",
      "userId": "18011726522139553411"
     },
     "user_tz": 180
    },
    "id": "qlfh975IwWGo",
    "outputId": "f7def127-d45d-47ca-9f46-185b599dd5d5"
   },
   "outputs": [
    {
     "data": {
      "text/plain": [
       "array(['Pico_I3', 'No_Pico_I5', 'No_Pico_I3', 'Pico_I1', 'No_Pico_I2'],\n",
       "      dtype=object)"
      ]
     },
     "execution_count": 73,
     "metadata": {
      "tags": []
     },
     "output_type": "execute_result"
    }
   ],
   "source": [
    "## Me fijop como viene ordenado los nombre de los archivos en el target.\n",
    "targets_df['Archivo'].unique()"
   ]
  },
  {
   "cell_type": "markdown",
   "metadata": {
    "colab_type": "text",
    "id": "60Ais1cFwWGw"
   },
   "source": [
    "### Evolución del Target"
   ]
  },
  {
   "cell_type": "code",
   "execution_count": 0,
   "metadata": {
    "colab": {
     "base_uri": "https://localhost:8080/",
     "height": 286
    },
    "colab_type": "code",
    "executionInfo": {
     "elapsed": 890,
     "status": "ok",
     "timestamp": 1560117247257,
     "user": {
      "displayName": "Mauro Colombini",
      "photoUrl": "https://lh5.googleusercontent.com/-5kXMS9HagWU/AAAAAAAAAAI/AAAAAAAABCU/NnwCHdkDlwY/s64/photo.jpg",
      "userId": "18011726522139553411"
     },
     "user_tz": 180
    },
    "id": "AZXMcM1UwWGx",
    "outputId": "a2ec8d42-1ce3-4d1b-9fd3-52c17f8d90d6"
   },
   "outputs": [
    {
     "data": {
      "text/plain": [
       "<matplotlib.axes._subplots.AxesSubplot at 0x7f4b49c76780>"
      ]
     },
     "execution_count": 74,
     "metadata": {
      "tags": []
     },
     "output_type": "execute_result"
    },
    {
     "data": {
      "image/png": "[encoded data removed]",
      "text/plain": [
       "<Figure size 432x288 with 1 Axes>"
      ]
     },
     "metadata": {
      "tags": []
     },
     "output_type": "display_data"
    }
   ],
   "source": [
    "targets_df['Cantidad'].plot()"
   ]
  },
  {
   "cell_type": "code",
   "execution_count": 0,
   "metadata": {
    "colab": {},
    "colab_type": "code",
    "id": "fk3E_M3GwWG1"
   },
   "outputs": [],
   "source": [
    "## Convertir el data frame target en array de valores\n",
    "target=targets_df['Cantidad'].values"
   ]
  },
  {
   "cell_type": "code",
   "execution_count": 0,
   "metadata": {
    "colab": {
     "base_uri": "https://localhost:8080/",
     "height": 34
    },
    "colab_type": "code",
    "executionInfo": {
     "elapsed": 735,
     "status": "ok",
     "timestamp": 1560117258680,
     "user": {
      "displayName": "Mauro Colombini",
      "photoUrl": "https://lh5.googleusercontent.com/-5kXMS9HagWU/AAAAAAAAAAI/AAAAAAAABCU/NnwCHdkDlwY/s64/photo.jpg",
      "userId": "18011726522139553411"
     },
     "user_tz": 180
    },
    "id": "mrOa_L1xwWG4",
    "outputId": "04de1fe8-26cf-4d86-e452-0133541411b9"
   },
   "outputs": [
    {
     "data": {
      "text/plain": [
       "array([36, 36, 36, ..., 14, 14, 14])"
      ]
     },
     "execution_count": 76,
     "metadata": {
      "tags": []
     },
     "output_type": "execute_result"
    }
   ],
   "source": [
    "target"
   ]
  },
  {
   "cell_type": "markdown",
   "metadata": {
    "colab_type": "text",
    "id": "Yi4BJgmWwWG7"
   },
   "source": [
    "# Separar entre muestras de test y train y generar nuevas muestras"
   ]
  },
  {
   "cell_type": "code",
   "execution_count": 0,
   "metadata": {
    "colab": {},
    "colab_type": "code",
    "id": "Qt_Vnm5JwWG8"
   },
   "outputs": [],
   "source": [
    "import random"
   ]
  },
  {
   "cell_type": "code",
   "execution_count": 0,
   "metadata": {
    "colab": {},
    "colab_type": "code",
    "id": "MnavXbxYwWHA"
   },
   "outputs": [],
   "source": [
    "## Genero un vector de indices de los arrays\n",
    "indices=range(frente_array_escalado.shape[0])"
   ]
  },
  {
   "cell_type": "code",
   "execution_count": 0,
   "metadata": {
    "colab": {},
    "colab_type": "code",
    "id": "ZgkacQGGwWHD"
   },
   "outputs": [],
   "source": [
    "## Testeo sobre el 25% de las imagenes  \n",
    "test = int(frente_array_escalado.shape[0]*0.25)"
   ]
  },
  {
   "cell_type": "code",
   "execution_count": 0,
   "metadata": {
    "colab": {},
    "colab_type": "code",
    "id": "5aSNKIRewWHG"
   },
   "outputs": [],
   "source": [
    "#Seteo la semilla para que sea reproducible\n",
    "random.seed(4)\n",
    "## Selecciono aleatoriamente sobre el indice de las imagenes de entrenamiento\n",
    "indices_train = random.sample(indices, len(indices)-test)"
   ]
  },
  {
   "cell_type": "code",
   "execution_count": 0,
   "metadata": {
    "colab": {},
    "colab_type": "code",
    "id": "r4VyJsqnwWHI"
   },
   "outputs": [],
   "source": [
    "indices_test=[]\n",
    "for i in indices:\n",
    "    if np.isin(i, indices_train)==False:\n",
    "        indices_test.append(i)"
   ]
  },
  {
   "cell_type": "markdown",
   "metadata": {
    "colab_type": "text",
    "id": "1LdC0anGwWHL"
   },
   "source": [
    "## Base de entrenamiento"
   ]
  },
  {
   "cell_type": "code",
   "execution_count": 0,
   "metadata": {
    "colab": {},
    "colab_type": "code",
    "id": "5kgFa2UxwWHM"
   },
   "outputs": [],
   "source": [
    "frente_train=frente_array_escalado[indices_train]\n",
    "atras_train=atras_array_escalado[indices_train]\n",
    "target_train=target[indices_train]"
   ]
  },
  {
   "cell_type": "markdown",
   "metadata": {
    "colab_type": "text",
    "id": "TOEUi873wWHO"
   },
   "source": [
    "## Base test"
   ]
  },
  {
   "cell_type": "code",
   "execution_count": 0,
   "metadata": {
    "colab": {},
    "colab_type": "code",
    "id": "s3jQn3ccwWHP"
   },
   "outputs": [],
   "source": [
    "frente_test=frente_array_escalado[indices_test]\n",
    "atras_test=atras_array_escalado[indices_test]\n",
    "target_test=target[indices_test]"
   ]
  },
  {
   "cell_type": "markdown",
   "metadata": {
    "colab_type": "text",
    "id": "CMYgzeHlwWHT"
   },
   "source": [
    "# METODO MÚLTIPLE ENTRADA"
   ]
  },
  {
   "cell_type": "markdown",
   "metadata": {
    "colab_type": "text",
    "id": "f8UUINagmD4C"
   },
   "source": [
    "# Nueva sección"
   ]
  },
  {
   "cell_type": "code",
   "execution_count": 0,
   "metadata": {
    "colab": {},
    "colab_type": "code",
    "id": "E-xvRyNgwWHT"
   },
   "outputs": [],
   "source": [
    "frente_train_re=frente_train.reshape(frente_train.shape[0],frente_train.shape[1],frente_train.shape[2],1)"
   ]
  },
  {
   "cell_type": "code",
   "execution_count": 0,
   "metadata": {
    "colab": {},
    "colab_type": "code",
    "id": "ERViGseSwWHV"
   },
   "outputs": [],
   "source": [
    "atras_train_re=atras_train.reshape(atras_train.shape[0],atras_train.shape[1],atras_train.shape[2],1)"
   ]
  },
  {
   "cell_type": "code",
   "execution_count": 0,
   "metadata": {
    "colab": {},
    "colab_type": "code",
    "id": "elQk5iQzwWHY"
   },
   "outputs": [],
   "source": [
    "frente_test_re=frente_test.reshape(frente_test.shape[0],frente_test.shape[1],frente_test.shape[2],1)"
   ]
  },
  {
   "cell_type": "code",
   "execution_count": 0,
   "metadata": {
    "colab": {},
    "colab_type": "code",
    "id": "1BfXrelCwWHa"
   },
   "outputs": [],
   "source": [
    "atras_test_re=atras_test.reshape(atras_test.shape[0],atras_test.shape[1],atras_test.shape[2],1)"
   ]
  },
  {
   "cell_type": "markdown",
   "metadata": {
    "colab_type": "text",
    "id": "Jal9Xu6ZwWHh"
   },
   "source": [
    "* Modelo multiple entrada a una salida"
   ]
  },
  {
   "cell_type": "code",
   "execution_count": 0,
   "metadata": {
    "colab": {
     "base_uri": "https://localhost:8080/",
     "height": 34
    },
    "colab_type": "code",
    "executionInfo": {
     "elapsed": 1597,
     "status": "ok",
     "timestamp": 1560117302398,
     "user": {
      "displayName": "Mauro Colombini",
      "photoUrl": "https://lh5.googleusercontent.com/-5kXMS9HagWU/AAAAAAAAAAI/AAAAAAAABCU/NnwCHdkDlwY/s64/photo.jpg",
      "userId": "18011726522139553411"
     },
     "user_tz": 180
    },
    "id": "InyVmhg2wWHi",
    "outputId": "442420b1-8a9b-48a8-c3e4-43242e1a9a7e"
   },
   "outputs": [
    {
     "name": "stderr",
     "output_type": "stream",
     "text": [
      "Using TensorFlow backend.\n"
     ]
    }
   ],
   "source": [
    "from keras.models import Model\n",
    "from keras import layers\n",
    "from keras import Input\n",
    "from keras.layers import Dropout\n",
    "from keras.callbacks import EarlyStopping\n"
   ]
  },
  {
   "cell_type": "code",
   "execution_count": 0,
   "metadata": {
    "colab": {
     "base_uri": "https://localhost:8080/",
     "height": 199
    },
    "colab_type": "code",
    "executionInfo": {
     "elapsed": 1675,
     "status": "ok",
     "timestamp": 1560117307387,
     "user": {
      "displayName": "Mauro Colombini",
      "photoUrl": "https://lh5.googleusercontent.com/-5kXMS9HagWU/AAAAAAAAAAI/AAAAAAAABCU/NnwCHdkDlwY/s64/photo.jpg",
      "userId": "18011726522139553411"
     },
     "user_tz": 180
    },
    "id": "YjMkIg4LwWHl",
    "outputId": "9725e513-598c-46d3-d68b-290dc2c46758"
   },
   "outputs": [
    {
     "name": "stdout",
     "output_type": "stream",
     "text": [
      "WARNING:tensorflow:From /usr/local/lib/python3.6/dist-packages/tensorflow/python/framework/op_def_library.py:263: colocate_with (from tensorflow.python.framework.ops) is deprecated and will be removed in a future version.\n",
      "Instructions for updating:\n",
      "Colocations handled automatically by placer.\n",
      "WARNING:tensorflow:From /usr/local/lib/python3.6/dist-packages/keras/backend/tensorflow_backend.py:3445: calling dropout (from tensorflow.python.ops.nn_ops) with keep_prob is deprecated and will be removed in a future version.\n",
      "Instructions for updating:\n",
      "Please use `rate` instead of `keep_prob`. Rate should be set to `rate = 1 - keep_prob`.\n"
     ]
    }
   ],
   "source": [
    "# Primera rama: X_Train\n",
    "\n",
    "func_conv_1='relu'\n",
    "func_conv_2='relu'\n",
    "func_dense='relu'\n",
    "\n",
    "# PRIMERA RAMA: FRENTE\n",
    "\n",
    "frente_train_input= Input(shape=(frente_train_re.shape[1],\n",
    "                                 frente_train_re.shape[2],\n",
    "                                 frente_train_re.shape[3]), name='frente_train_input')\n",
    "\n",
    "rama_1=layers.Conv2D(16, (4, 4), activation=func_conv_1)(frente_train_input)\n",
    "rama_1=layers.MaxPooling2D((4, 4))(rama_1)\n",
    "\n",
    "\n",
    "rama_1=layers.Conv2D(16, (4, 4), activation=func_conv_1)(rama_1)\n",
    "rama_1=layers.MaxPooling2D((4, 4))(rama_1)\n",
    "\n",
    "rama_1=layers.Flatten()(rama_1)\n",
    "\n",
    "rama_1=layers.Dense(64, activation=func_dense)(rama_1)\n",
    "rama_1=layers.BatchNormalization()(rama_1)\n",
    "rama_1=layers.Dropout(0.5)(rama_1)\n",
    "\n",
    "rama_1=layers.Dense(16, activation=func_dense)(rama_1)\n",
    "rama_1=layers.BatchNormalization()(rama_1)\n",
    "rama_1=layers.Dropout(0.25)(rama_1)\n",
    "\n",
    "rama_1=layers.Dense(8, activation=func_dense)(rama_1)\n",
    "rama_1=layers.BatchNormalization()(rama_1)\n",
    "rama_1=layers.Dropout(0.05)(rama_1)\n",
    "\n",
    "# SEGUNDA RAMA: ATRAS\n",
    "\n",
    "atras_train_input= Input(shape=(atras_train_re.shape[1],\n",
    "                                atras_train_re.shape[2],\n",
    "                                atras_train_re.shape[3]), name='atras_train_input')\n",
    "\n",
    "rama_2=layers.Conv2D(16, (4, 4), activation=func_conv_2)(atras_train_input)\n",
    "rama_2=layers.MaxPooling2D((4, 4))(rama_2)\n",
    "\n",
    "\n",
    "rama_2=layers.Conv2D(16, (4, 4), activation=func_conv_2)(rama_2)\n",
    "rama_2=layers.MaxPooling2D((4, 4))(rama_2)\n",
    "\n",
    "rama_2=layers.Flatten()(rama_2)\n",
    "\n",
    "rama_2=layers.Dense(64, activation=func_dense)(rama_2)\n",
    "rama_2=layers.BatchNormalization()(rama_2)\n",
    "rama_2=layers.Dropout(0.5)(rama_2)\n",
    "\n",
    "rama_2=layers.Dense(16, activation=func_dense)(rama_2)\n",
    "rama_2=layers.BatchNormalization()(rama_2)\n",
    "rama_2=layers.Dropout(0.25)(rama_2)\n",
    "\n",
    "rama_2=layers.Dense(8, activation=func_dense)(rama_2)\n",
    "rama_2=layers.BatchNormalization()(rama_2)\n",
    "rama_2=layers.Dropout(0.1)(rama_2)\n",
    "\n",
    "# Concatenación de ramas\n",
    "\n",
    "concat=layers.concatenate([rama_1,rama_2], axis=-1)\n",
    "\n",
    "# Output\n",
    "\n",
    "output=layers.Dense(1)(concat)\n",
    "\n",
    "# Modelo\n",
    "\n",
    "modelo= Model([frente_train_input,atras_train_input],output)"
   ]
  },
  {
   "cell_type": "code",
   "execution_count": 0,
   "metadata": {
    "colab": {
     "base_uri": "https://localhost:8080/",
     "height": 1241
    },
    "colab_type": "code",
    "executionInfo": {
     "elapsed": 724,
     "status": "ok",
     "timestamp": 1560117313872,
     "user": {
      "displayName": "Mauro Colombini",
      "photoUrl": "https://lh5.googleusercontent.com/-5kXMS9HagWU/AAAAAAAAAAI/AAAAAAAABCU/NnwCHdkDlwY/s64/photo.jpg",
      "userId": "18011726522139553411"
     },
     "user_tz": 180
    },
    "id": "PNBmjYCowWHn",
    "outputId": "7be44ea1-1c66-477c-b615-b663071db68b"
   },
   "outputs": [
    {
     "name": "stdout",
     "output_type": "stream",
     "text": [
      "__________________________________________________________________________________________________\n",
      "Layer (type)                    Output Shape         Param #     Connected to                     \n",
      "==================================================================================================\n",
      "frente_train_input (InputLayer) (None, 112, 200, 1)  0                                            \n",
      "__________________________________________________________________________________________________\n",
      "atras_train_input (InputLayer)  (None, 112, 200, 1)  0                                            \n",
      "__________________________________________________________________________________________________\n",
      "conv2d_1 (Conv2D)               (None, 109, 197, 16) 272         frente_train_input[0][0]         \n",
      "__________________________________________________________________________________________________\n",
      "conv2d_3 (Conv2D)               (None, 109, 197, 16) 272         atras_train_input[0][0]          \n",
      "__________________________________________________________________________________________________\n",
      "max_pooling2d_1 (MaxPooling2D)  (None, 27, 49, 16)   0           conv2d_1[0][0]                   \n",
      "__________________________________________________________________________________________________\n",
      "max_pooling2d_3 (MaxPooling2D)  (None, 27, 49, 16)   0           conv2d_3[0][0]                   \n",
      "__________________________________________________________________________________________________\n",
      "conv2d_2 (Conv2D)               (None, 24, 46, 16)   4112        max_pooling2d_1[0][0]            \n",
      "__________________________________________________________________________________________________\n",
      "conv2d_4 (Conv2D)               (None, 24, 46, 16)   4112        max_pooling2d_3[0][0]            \n",
      "__________________________________________________________________________________________________\n",
      "max_pooling2d_2 (MaxPooling2D)  (None, 6, 11, 16)    0           conv2d_2[0][0]                   \n",
      "__________________________________________________________________________________________________\n",
      "max_pooling2d_4 (MaxPooling2D)  (None, 6, 11, 16)    0           conv2d_4[0][0]                   \n",
      "__________________________________________________________________________________________________\n",
      "flatten_1 (Flatten)             (None, 1056)         0           max_pooling2d_2[0][0]            \n",
      "__________________________________________________________________________________________________\n",
      "flatten_2 (Flatten)             (None, 1056)         0           max_pooling2d_4[0][0]            \n",
      "__________________________________________________________________________________________________\n",
      "dense_1 (Dense)                 (None, 64)           67648       flatten_1[0][0]                  \n",
      "__________________________________________________________________________________________________\n",
      "dense_4 (Dense)                 (None, 64)           67648       flatten_2[0][0]                  \n",
      "__________________________________________________________________________________________________\n",
      "batch_normalization_1 (BatchNor (None, 64)           256         dense_1[0][0]                    \n",
      "__________________________________________________________________________________________________\n",
      "batch_normalization_4 (BatchNor (None, 64)           256         dense_4[0][0]                    \n",
      "__________________________________________________________________________________________________\n",
      "dropout_1 (Dropout)             (None, 64)           0           batch_normalization_1[0][0]      \n",
      "__________________________________________________________________________________________________\n",
      "dropout_4 (Dropout)             (None, 64)           0           batch_normalization_4[0][0]      \n",
      "__________________________________________________________________________________________________\n",
      "dense_2 (Dense)                 (None, 16)           1040        dropout_1[0][0]                  \n",
      "__________________________________________________________________________________________________\n",
      "dense_5 (Dense)                 (None, 16)           1040        dropout_4[0][0]                  \n",
      "__________________________________________________________________________________________________\n",
      "batch_normalization_2 (BatchNor (None, 16)           64          dense_2[0][0]                    \n",
      "__________________________________________________________________________________________________\n",
      "batch_normalization_5 (BatchNor (None, 16)           64          dense_5[0][0]                    \n",
      "__________________________________________________________________________________________________\n",
      "dropout_2 (Dropout)             (None, 16)           0           batch_normalization_2[0][0]      \n",
      "__________________________________________________________________________________________________\n",
      "dropout_5 (Dropout)             (None, 16)           0           batch_normalization_5[0][0]      \n",
      "__________________________________________________________________________________________________\n",
      "dense_3 (Dense)                 (None, 8)            136         dropout_2[0][0]                  \n",
      "__________________________________________________________________________________________________\n",
      "dense_6 (Dense)                 (None, 8)            136         dropout_5[0][0]                  \n",
      "__________________________________________________________________________________________________\n",
      "batch_normalization_3 (BatchNor (None, 8)            32          dense_3[0][0]                    \n",
      "__________________________________________________________________________________________________\n",
      "batch_normalization_6 (BatchNor (None, 8)            32          dense_6[0][0]                    \n",
      "__________________________________________________________________________________________________\n",
      "dropout_3 (Dropout)             (None, 8)            0           batch_normalization_3[0][0]      \n",
      "__________________________________________________________________________________________________\n",
      "dropout_6 (Dropout)             (None, 8)            0           batch_normalization_6[0][0]      \n",
      "__________________________________________________________________________________________________\n",
      "concatenate_1 (Concatenate)     (None, 16)           0           dropout_3[0][0]                  \n",
      "                                                                 dropout_6[0][0]                  \n",
      "__________________________________________________________________________________________________\n",
      "dense_7 (Dense)                 (None, 1)            17          concatenate_1[0][0]              \n",
      "==================================================================================================\n",
      "Total params: 147,137\n",
      "Trainable params: 146,785\n",
      "Non-trainable params: 352\n",
      "__________________________________________________________________________________________________\n"
     ]
    }
   ],
   "source": [
    "modelo.summary()"
   ]
  },
  {
   "cell_type": "code",
   "execution_count": 0,
   "metadata": {
    "colab": {},
    "colab_type": "code",
    "id": "Ko0VHCL5wWHq"
   },
   "outputs": [],
   "source": [
    "modelo.compile(optimizer='rmsprop',\n",
    "              loss='mean_squared_error',\n",
    "              metrics=['mean_squared_error'])"
   ]
  },
  {
   "cell_type": "code",
   "execution_count": 0,
   "metadata": {
    "colab": {
     "base_uri": "https://localhost:8080/",
     "height": 2281
    },
    "colab_type": "code",
    "executionInfo": {
     "elapsed": 192395,
     "status": "ok",
     "timestamp": 1560117513254,
     "user": {
      "displayName": "Mauro Colombini",
      "photoUrl": "https://lh5.googleusercontent.com/-5kXMS9HagWU/AAAAAAAAAAI/AAAAAAAABCU/NnwCHdkDlwY/s64/photo.jpg",
      "userId": "18011726522139553411"
     },
     "user_tz": 180
    },
    "id": "BP529innwWHs",
    "outputId": "c8336d5d-a1ad-4711-a78c-dd27c67e0e48"
   },
   "outputs": [
    {
     "name": "stdout",
     "output_type": "stream",
     "text": [
      "WARNING:tensorflow:From /usr/local/lib/python3.6/dist-packages/tensorflow/python/ops/math_ops.py:3066: to_int32 (from tensorflow.python.ops.math_ops) is deprecated and will be removed in a future version.\n",
      "Instructions for updating:\n",
      "Use tf.cast instead.\n",
      "Train on 3200 samples, validate on 1067 samples\n",
      "Epoch 1/100\n",
      "3200/3200 [==============================] - 9s 3ms/step - loss: 424.2375 - mean_squared_error: 424.2375 - val_loss: 374.3762 - val_mean_squared_error: 374.3762\n",
      "Epoch 2/100\n",
      "3200/3200 [==============================] - 3s 900us/step - loss: 369.8624 - mean_squared_error: 369.8624 - val_loss: 313.6399 - val_mean_squared_error: 313.6399\n",
      "Epoch 3/100\n",
      "3200/3200 [==============================] - 3s 904us/step - loss: 318.1439 - mean_squared_error: 318.1439 - val_loss: 172.2143 - val_mean_squared_error: 172.2143\n",
      "Epoch 4/100\n",
      "3200/3200 [==============================] - 3s 902us/step - loss: 265.5529 - mean_squared_error: 265.5529 - val_loss: 199.8700 - val_mean_squared_error: 199.8700\n",
      "Epoch 5/100\n",
      "3200/3200 [==============================] - 3s 911us/step - loss: 209.1747 - mean_squared_error: 209.1747 - val_loss: 123.8325 - val_mean_squared_error: 123.8325\n",
      "Epoch 6/100\n",
      "3200/3200 [==============================] - 3s 915us/step - loss: 151.6510 - mean_squared_error: 151.6510 - val_loss: 152.9487 - val_mean_squared_error: 152.9487\n",
      "Epoch 7/100\n",
      "3200/3200 [==============================] - 3s 905us/step - loss: 99.2129 - mean_squared_error: 99.2129 - val_loss: 63.0827 - val_mean_squared_error: 63.0827\n",
      "Epoch 8/100\n",
      "3200/3200 [==============================] - 3s 911us/step - loss: 56.1328 - mean_squared_error: 56.1328 - val_loss: 27.7472 - val_mean_squared_error: 27.7472\n",
      "Epoch 9/100\n",
      "3200/3200 [==============================] - 3s 912us/step - loss: 25.6339 - mean_squared_error: 25.6339 - val_loss: 7.2398 - val_mean_squared_error: 7.2398\n",
      "Epoch 10/100\n",
      "3200/3200 [==============================] - 3s 910us/step - loss: 13.1480 - mean_squared_error: 13.1480 - val_loss: 2.8972 - val_mean_squared_error: 2.8972\n",
      "Epoch 11/100\n",
      "3200/3200 [==============================] - 3s 900us/step - loss: 11.1608 - mean_squared_error: 11.1608 - val_loss: 2.3148 - val_mean_squared_error: 2.3148\n",
      "Epoch 12/100\n",
      "3200/3200 [==============================] - 3s 898us/step - loss: 9.6825 - mean_squared_error: 9.6825 - val_loss: 4.5573 - val_mean_squared_error: 4.5573\n",
      "Epoch 13/100\n",
      "3200/3200 [==============================] - 3s 893us/step - loss: 9.7306 - mean_squared_error: 9.7306 - val_loss: 8.9546 - val_mean_squared_error: 8.9546\n",
      "Epoch 14/100\n",
      "3200/3200 [==============================] - 3s 897us/step - loss: 9.2414 - mean_squared_error: 9.2414 - val_loss: 7.0384 - val_mean_squared_error: 7.0384\n",
      "Epoch 15/100\n",
      "3200/3200 [==============================] - 3s 898us/step - loss: 8.9003 - mean_squared_error: 8.9003 - val_loss: 7.6838 - val_mean_squared_error: 7.6838\n",
      "Epoch 16/100\n",
      "3200/3200 [==============================] - 3s 891us/step - loss: 10.2232 - mean_squared_error: 10.2232 - val_loss: 1.7311 - val_mean_squared_error: 1.7311\n",
      "Epoch 17/100\n",
      "3200/3200 [==============================] - 3s 899us/step - loss: 9.0658 - mean_squared_error: 9.0658 - val_loss: 1.9848 - val_mean_squared_error: 1.9848\n",
      "Epoch 18/100\n",
      "3200/3200 [==============================] - 3s 896us/step - loss: 9.1397 - mean_squared_error: 9.1397 - val_loss: 3.8778 - val_mean_squared_error: 3.8778\n",
      "Epoch 19/100\n",
      "3200/3200 [==============================] - 3s 895us/step - loss: 9.6729 - mean_squared_error: 9.6729 - val_loss: 3.6047 - val_mean_squared_error: 3.6047\n",
      "Epoch 20/100\n",
      "3200/3200 [==============================] - 3s 905us/step - loss: 9.2996 - mean_squared_error: 9.2996 - val_loss: 3.3343 - val_mean_squared_error: 3.3343\n",
      "Epoch 21/100\n",
      "3200/3200 [==============================] - 3s 905us/step - loss: 7.8850 - mean_squared_error: 7.8850 - val_loss: 2.3877 - val_mean_squared_error: 2.3877\n",
      "Epoch 22/100\n",
      "3200/3200 [==============================] - 3s 917us/step - loss: 8.5314 - mean_squared_error: 8.5314 - val_loss: 2.0300 - val_mean_squared_error: 2.0300\n",
      "Epoch 23/100\n",
      "3200/3200 [==============================] - 3s 920us/step - loss: 8.5261 - mean_squared_error: 8.5261 - val_loss: 4.8681 - val_mean_squared_error: 4.8681\n",
      "Epoch 24/100\n",
      "3200/3200 [==============================] - 3s 918us/step - loss: 8.3797 - mean_squared_error: 8.3797 - val_loss: 1.4349 - val_mean_squared_error: 1.4349\n",
      "Epoch 25/100\n",
      "3200/3200 [==============================] - 3s 911us/step - loss: 8.5830 - mean_squared_error: 8.5830 - val_loss: 2.2811 - val_mean_squared_error: 2.2811\n",
      "Epoch 26/100\n",
      "3200/3200 [==============================] - 3s 922us/step - loss: 8.0202 - mean_squared_error: 8.0202 - val_loss: 2.9327 - val_mean_squared_error: 2.9327\n",
      "Epoch 27/100\n",
      "3200/3200 [==============================] - 3s 908us/step - loss: 7.8502 - mean_squared_error: 7.8502 - val_loss: 1.6126 - val_mean_squared_error: 1.6126\n",
      "Epoch 28/100\n",
      "3200/3200 [==============================] - 3s 916us/step - loss: 7.5397 - mean_squared_error: 7.5397 - val_loss: 1.7165 - val_mean_squared_error: 1.7165\n",
      "Epoch 29/100\n",
      "3200/3200 [==============================] - 3s 908us/step - loss: 7.7887 - mean_squared_error: 7.7887 - val_loss: 1.9328 - val_mean_squared_error: 1.9328\n",
      "Epoch 30/100\n",
      "3200/3200 [==============================] - 3s 914us/step - loss: 7.2435 - mean_squared_error: 7.2435 - val_loss: 3.1510 - val_mean_squared_error: 3.1510\n",
      "Epoch 31/100\n",
      "3200/3200 [==============================] - 3s 906us/step - loss: 7.1079 - mean_squared_error: 7.1079 - val_loss: 1.6418 - val_mean_squared_error: 1.6418\n",
      "Epoch 32/100\n",
      "3200/3200 [==============================] - 3s 902us/step - loss: 7.7522 - mean_squared_error: 7.7522 - val_loss: 3.0821 - val_mean_squared_error: 3.0821\n",
      "Epoch 33/100\n",
      "3200/3200 [==============================] - 3s 923us/step - loss: 7.1984 - mean_squared_error: 7.1984 - val_loss: 2.4872 - val_mean_squared_error: 2.4872\n",
      "Epoch 34/100\n",
      "3200/3200 [==============================] - 3s 908us/step - loss: 6.9753 - mean_squared_error: 6.9753 - val_loss: 1.3129 - val_mean_squared_error: 1.3129\n",
      "Epoch 35/100\n",
      "3200/3200 [==============================] - 3s 910us/step - loss: 7.4389 - mean_squared_error: 7.4389 - val_loss: 1.0162 - val_mean_squared_error: 1.0162\n",
      "Epoch 36/100\n",
      "3200/3200 [==============================] - 3s 901us/step - loss: 7.1639 - mean_squared_error: 7.1639 - val_loss: 2.2055 - val_mean_squared_error: 2.2055\n",
      "Epoch 37/100\n",
      "3200/3200 [==============================] - 3s 906us/step - loss: 7.1079 - mean_squared_error: 7.1079 - val_loss: 1.4471 - val_mean_squared_error: 1.4471\n",
      "Epoch 38/100\n",
      "3200/3200 [==============================] - 3s 920us/step - loss: 7.5807 - mean_squared_error: 7.5807 - val_loss: 0.8308 - val_mean_squared_error: 0.8308\n",
      "Epoch 39/100\n",
      "3200/3200 [==============================] - 3s 939us/step - loss: 7.4601 - mean_squared_error: 7.4601 - val_loss: 1.1316 - val_mean_squared_error: 1.1316\n",
      "Epoch 40/100\n",
      "3200/3200 [==============================] - 3s 936us/step - loss: 7.2312 - mean_squared_error: 7.2312 - val_loss: 1.7644 - val_mean_squared_error: 1.7644\n",
      "Epoch 41/100\n",
      "3200/3200 [==============================] - 3s 932us/step - loss: 7.7307 - mean_squared_error: 7.7307 - val_loss: 1.8054 - val_mean_squared_error: 1.8054\n",
      "Epoch 42/100\n",
      "3200/3200 [==============================] - 3s 916us/step - loss: 6.9390 - mean_squared_error: 6.9390 - val_loss: 1.0152 - val_mean_squared_error: 1.0152\n",
      "Epoch 43/100\n",
      "3200/3200 [==============================] - 3s 908us/step - loss: 7.2311 - mean_squared_error: 7.2311 - val_loss: 1.0001 - val_mean_squared_error: 1.0001\n",
      "Epoch 44/100\n",
      "3200/3200 [==============================] - 3s 921us/step - loss: 6.9137 - mean_squared_error: 6.9137 - val_loss: 1.0520 - val_mean_squared_error: 1.0520\n",
      "Epoch 45/100\n",
      "3200/3200 [==============================] - 3s 919us/step - loss: 7.1380 - mean_squared_error: 7.1380 - val_loss: 2.5848 - val_mean_squared_error: 2.5848\n",
      "Epoch 46/100\n",
      "3200/3200 [==============================] - 3s 909us/step - loss: 6.6398 - mean_squared_error: 6.6398 - val_loss: 4.4551 - val_mean_squared_error: 4.4551\n",
      "Epoch 47/100\n",
      "3200/3200 [==============================] - 3s 905us/step - loss: 7.0076 - mean_squared_error: 7.0076 - val_loss: 1.7785 - val_mean_squared_error: 1.7785\n",
      "Epoch 48/100\n",
      "3200/3200 [==============================] - 3s 912us/step - loss: 6.5994 - mean_squared_error: 6.5994 - val_loss: 1.1433 - val_mean_squared_error: 1.1433\n",
      "Epoch 49/100\n",
      "3200/3200 [==============================] - 3s 920us/step - loss: 7.3711 - mean_squared_error: 7.3711 - val_loss: 0.8968 - val_mean_squared_error: 0.8968\n",
      "Epoch 50/100\n",
      "3200/3200 [==============================] - 3s 917us/step - loss: 7.1769 - mean_squared_error: 7.1769 - val_loss: 1.5039 - val_mean_squared_error: 1.5039\n",
      "Epoch 51/100\n",
      "3200/3200 [==============================] - 3s 929us/step - loss: 7.2391 - mean_squared_error: 7.2391 - val_loss: 0.8681 - val_mean_squared_error: 0.8681\n",
      "Epoch 52/100\n",
      "3200/3200 [==============================] - 3s 916us/step - loss: 7.1586 - mean_squared_error: 7.1586 - val_loss: 1.3122 - val_mean_squared_error: 1.3122\n",
      "Epoch 53/100\n",
      "3200/3200 [==============================] - 3s 907us/step - loss: 6.1891 - mean_squared_error: 6.1891 - val_loss: 1.8482 - val_mean_squared_error: 1.8482\n",
      "Epoch 54/100\n",
      "3200/3200 [==============================] - 3s 922us/step - loss: 6.4916 - mean_squared_error: 6.4916 - val_loss: 0.8745 - val_mean_squared_error: 0.8745\n",
      "Epoch 55/100\n",
      "3200/3200 [==============================] - 3s 936us/step - loss: 6.6950 - mean_squared_error: 6.6950 - val_loss: 1.3458 - val_mean_squared_error: 1.3458\n",
      "Epoch 56/100\n",
      "3200/3200 [==============================] - 3s 928us/step - loss: 6.4928 - mean_squared_error: 6.4928 - val_loss: 1.0192 - val_mean_squared_error: 1.0192\n",
      "Epoch 57/100\n",
      "3200/3200 [==============================] - 3s 906us/step - loss: 7.0949 - mean_squared_error: 7.0949 - val_loss: 2.9814 - val_mean_squared_error: 2.9814\n",
      "Epoch 58/100\n",
      "3200/3200 [==============================] - 3s 918us/step - loss: 7.0366 - mean_squared_error: 7.0366 - val_loss: 1.1490 - val_mean_squared_error: 1.1490\n",
      "Epoch 59/100\n",
      "3200/3200 [==============================] - 3s 909us/step - loss: 6.5590 - mean_squared_error: 6.5590 - val_loss: 2.8429 - val_mean_squared_error: 2.8429\n",
      "Epoch 60/100\n",
      "3200/3200 [==============================] - 3s 916us/step - loss: 7.2446 - mean_squared_error: 7.2446 - val_loss: 1.7019 - val_mean_squared_error: 1.7019\n",
      "Epoch 61/100\n",
      "3200/3200 [==============================] - 3s 917us/step - loss: 7.0885 - mean_squared_error: 7.0885 - val_loss: 1.2684 - val_mean_squared_error: 1.2684\n",
      "Epoch 62/100\n",
      "3200/3200 [==============================] - 3s 913us/step - loss: 6.4312 - mean_squared_error: 6.4312 - val_loss: 1.6406 - val_mean_squared_error: 1.6406\n",
      "Epoch 63/100\n",
      "3200/3200 [==============================] - 3s 927us/step - loss: 7.0731 - mean_squared_error: 7.0731 - val_loss: 1.0683 - val_mean_squared_error: 1.0683\n",
      "Restoring model weights from the end of the best epoch\n",
      "Epoch 00063: early stopping\n"
     ]
    }
   ],
   "source": [
    "es = EarlyStopping(monitor='val_loss',\n",
    "                   min_delta=0.01, \n",
    "                   patience=25, \n",
    "                   verbose=1, \n",
    "                   restore_best_weights=True)\n",
    "\n",
    "history=modelo.fit([frente_train_re, atras_train_re], \n",
    "                   target_train, \n",
    "                   epochs=100, \n",
    "                   batch_size=32, \n",
    "                   validation_split=0.25, \n",
    "                   callbacks=[es])"
   ]
  },
  {
   "cell_type": "code",
   "execution_count": 0,
   "metadata": {
    "colab": {},
    "colab_type": "code",
    "id": "jdNeMF6cwWHv"
   },
   "outputs": [],
   "source": [
    "pred = modelo.predict([frente_test_re, atras_test_re])"
   ]
  },
  {
   "cell_type": "code",
   "execution_count": 0,
   "metadata": {
    "colab": {
     "base_uri": "https://localhost:8080/",
     "height": 34
    },
    "colab_type": "code",
    "executionInfo": {
     "elapsed": 1428,
     "status": "ok",
     "timestamp": 1560117549499,
     "user": {
      "displayName": "Mauro Colombini",
      "photoUrl": "https://lh5.googleusercontent.com/-5kXMS9HagWU/AAAAAAAAAAI/AAAAAAAABCU/NnwCHdkDlwY/s64/photo.jpg",
      "userId": "18011726522139553411"
     },
     "user_tz": 180
    },
    "id": "xIS7wG55wWHx",
    "outputId": "188d2b26-c4ed-43f0-936d-96ec9e86d3d4"
   },
   "outputs": [
    {
     "name": "stdout",
     "output_type": "stream",
     "text": [
      "1422/1422 [==============================] - 1s 449us/step\n"
     ]
    }
   ],
   "source": [
    "test_loss, test_acc = modelo.evaluate([frente_test_re, atras_test_re], target_test)"
   ]
  },
  {
   "cell_type": "code",
   "execution_count": 0,
   "metadata": {
    "colab": {
     "base_uri": "https://localhost:8080/",
     "height": 34
    },
    "colab_type": "code",
    "executionInfo": {
     "elapsed": 950,
     "status": "ok",
     "timestamp": 1560117553908,
     "user": {
      "displayName": "Mauro Colombini",
      "photoUrl": "https://lh5.googleusercontent.com/-5kXMS9HagWU/AAAAAAAAAAI/AAAAAAAABCU/NnwCHdkDlwY/s64/photo.jpg",
      "userId": "18011726522139553411"
     },
     "user_tz": 180
    },
    "id": "5Zn1TsY2wWH0",
    "outputId": "f731311a-24f6-4a78-eab1-32cf6cc14333"
   },
   "outputs": [
    {
     "data": {
      "text/plain": [
       "0.9701773553625609"
      ]
     },
     "execution_count": 95,
     "metadata": {
      "tags": []
     },
     "output_type": "execute_result"
    }
   ],
   "source": [
    "test_loss"
   ]
  },
  {
   "cell_type": "code",
   "execution_count": 0,
   "metadata": {
    "colab": {
     "base_uri": "https://localhost:8080/",
     "height": 336
    },
    "colab_type": "code",
    "executionInfo": {
     "elapsed": 1009,
     "status": "ok",
     "timestamp": 1560117564968,
     "user": {
      "displayName": "Mauro Colombini",
      "photoUrl": "https://lh5.googleusercontent.com/-5kXMS9HagWU/AAAAAAAAAAI/AAAAAAAABCU/NnwCHdkDlwY/s64/photo.jpg",
      "userId": "18011726522139553411"
     },
     "user_tz": 180
    },
    "id": "Bmas5UJawWH5",
    "outputId": "1da5f5a6-e61e-42d4-b621-2079c4af7f73"
   },
   "outputs": [
    {
     "data": {
      "image/png": "[encoded data removed]",
      "text/plain": [
       "<Figure size 720x360 with 1 Axes>"
      ]
     },
     "metadata": {
      "tags": []
     },
     "output_type": "display_data"
    }
   ],
   "source": [
    "import matplotlib.pyplot as plt\n",
    "\n",
    "loss = history.history['loss']\n",
    "val_loss = history.history['val_loss']\n",
    "\n",
    "epochs = range(len(loss))\n",
    "\n",
    "plt.figure(figsize=(10,5))\n",
    "\n",
    "plt.plot(epochs, loss, 'bo', label='Training loss')\n",
    "plt.plot(epochs, val_loss, 'b', label='Validation loss')\n",
    "plt.title('Training and validation loss')\n",
    "plt.legend()\n",
    "\n",
    "plt.show()"
   ]
  },
  {
   "cell_type": "markdown",
   "metadata": {
    "colab_type": "text",
    "id": "xFFur9KSH8Xo"
   },
   "source": [
    "## Visualizo el modelo"
   ]
  },
  {
   "cell_type": "code",
   "execution_count": 0,
   "metadata": {
    "colab": {
     "base_uri": "https://localhost:8080/",
     "height": 285
    },
    "colab_type": "code",
    "executionInfo": {
     "elapsed": 7211,
     "status": "ok",
     "timestamp": 1560009378016,
     "user": {
      "displayName": "Mauro Colombini",
      "photoUrl": "https://lh5.googleusercontent.com/-5kXMS9HagWU/AAAAAAAAAAI/AAAAAAAABCU/NnwCHdkDlwY/s64/photo.jpg",
      "userId": "18011726522139553411"
     },
     "user_tz": 180
    },
    "id": "E1cBSGr2H7DF",
    "outputId": "f12bbde5-7d8b-49c4-9b7d-99a59ab06364"
   },
   "outputs": [
    {
     "name": "stdout",
     "output_type": "stream",
     "text": [
      "Requirement already satisfied: pydot in /usr/local/lib/python3.6/dist-packages (1.3.0)\n",
      "Requirement already satisfied: pyparsing>=2.1.4 in /usr/local/lib/python3.6/dist-packages (from pydot) (2.4.0)\n",
      "Requirement already satisfied: graphviz in /usr/local/lib/python3.6/dist-packages (0.10.1)\n"
     ]
    }
   ],
   "source": [
    "!pip install pydot\n",
    "!pip install graphviz"
   ]
  },
  {
   "cell_type": "code",
   "execution_count": 0,
   "metadata": {
    "colab": {
     "base_uri": "https://localhost:8080/",
     "height": 939
    },
    "colab_type": "code",
    "executionInfo": {
     "elapsed": 2211,
     "status": "ok",
     "timestamp": 1560009385851,
     "user": {
      "displayName": "Mauro Colombini",
      "photoUrl": "https://lh5.googleusercontent.com/-5kXMS9HagWU/AAAAAAAAAAI/AAAAAAAABCU/NnwCHdkDlwY/s64/photo.jpg",
      "userId": "18011726522139553411"
     },
     "user_tz": 180
    },
    "id": "Djx566svIhC4",
    "outputId": "cd352ecd-6cff-4b83-b555-e736a9ea4328"
   },
   "outputs": [
    {
     "data": {
      "image/png": "[encoded data removed]",
      "text/plain": [
       "<IPython.core.display.Image object>"
      ]
     },
     "execution_count": 53,
     "metadata": {
      "image/png": {
       "height": 922,
       "width": 576
      },
      "tags": []
     },
     "output_type": "execute_result"
    }
   ],
   "source": [
    "from keras.utils import plot_model\n",
    "from IPython.display import Image\n",
    "\n",
    "#plot_model(modelo, to_file='model.png')\n",
    "plot_model(modelo, show_shapes=True, to_file='model.png')\n",
    "\n",
    "Image(retina=True, filename='model.png')"
   ]
  },
  {
   "cell_type": "code",
   "execution_count": 0,
   "metadata": {
    "colab": {},
    "colab_type": "code",
    "id": "NfRoNwpp0jJO"
   },
   "outputs": [],
   "source": []
  }
 ],
 "metadata": {
  "accelerator": "GPU",
  "colab": {
   "collapsed_sections": [],
   "name": "Proyecto_Final_20190609.ipynb",
   "provenance": [
    {
     "file_id": "17KXX9LrcMFQz0q7pgPbV_n_a6PE3rHiB",
     "timestamp": 1560111053150
    }
   ],
   "version": "0.3.2"
  },
  "kernelspec": {
   "display_name": "Python 3",
   "language": "python",
   "name": "python3"
  },
  "language_info": {
   "codemirror_mode": {
    "name": "ipython",
    "version": 3
   },
   "file_extension": ".py",
   "mimetype": "text/x-python",
   "name": "python",
   "nbconvert_exporter": "python",
   "pygments_lexer": "ipython3",
   "version": "3.6.8"
  }
 },
 "nbformat": 4,
 "nbformat_minor": 1
}
